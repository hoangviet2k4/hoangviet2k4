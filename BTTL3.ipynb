{
  "nbformat": 4,
  "nbformat_minor": 0,
  "metadata": {
    "colab": {
      "provenance": [],
      "collapsed_sections": [],
      "authorship_tag": "ABX9TyM/voVm+YJQuigi2CfqTAJ/",
      "include_colab_link": true
    },
    "kernelspec": {
      "name": "python3",
      "display_name": "Python 3"
    },
    "language_info": {
      "name": "python"
    }
  },
  "cells": [
    {
      "cell_type": "markdown",
      "metadata": {
        "id": "view-in-github",
        "colab_type": "text"
      },
      "source": [
        "<a href=\"https://colab.research.google.com/github/hoangviet2k4/hoangviet2k4/blob/bai-tap-python/BTTL3.ipynb\" target=\"_parent\"><img src=\"https://colab.research.google.com/assets/colab-badge.svg\" alt=\"Open In Colab\"/></a>"
      ]
    },
    {
      "cell_type": "code",
      "execution_count": null,
      "metadata": {
        "id": "F9OvHB_rzNMu"
      },
      "outputs": [],
      "source": [
        "A={'NNLT Python', 'Đại số tuyến tính', 'Tiếng Anh chuyên ngành', 'Thể dục'}"
      ]
    },
    {
      "cell_type": "code",
      "source": [
        "B = {'NNLT Python', 'Đại số tuyến tính', 'Tối ưu hóa', 'Học Máy', 'Học sâu', 'Computer vision', 'Natural Language Processing', 'Recommender Systems'}"
      ],
      "metadata": {
        "id": "SHPXgaLMzRFB"
      },
      "execution_count": null,
      "outputs": []
    },
    {
      "cell_type": "code",
      "source": [
        "print(A)\n",
        "print(B)"
      ],
      "metadata": {
        "colab": {
          "base_uri": "https://localhost:8080/"
        },
        "id": "Q1ASn8LfzTxw",
        "outputId": "6247a9fd-f0f0-4958-9857-2bf137067436"
      },
      "execution_count": null,
      "outputs": [
        {
          "output_type": "stream",
          "name": "stdout",
          "text": [
            "{'Tiếng Anh chuyên ngành', 'Đại số tuyến tính', 'Thể dục', 'NNLT Python'}\n",
            "{'Tối ưu hóa', 'Computer vision', 'NNLT Python', 'Recommender Systems', 'Học sâu', 'Đại số tuyến tính', 'Natural Language Processing', 'Học Máy'}\n"
          ]
        }
      ]
    },
    {
      "cell_type": "code",
      "source": [
        "A|B"
      ],
      "metadata": {
        "colab": {
          "base_uri": "https://localhost:8080/"
        },
        "id": "2Znf_SZGzVdv",
        "outputId": "69995912-4bc5-4197-f34c-d26b5316afaa"
      },
      "execution_count": null,
      "outputs": [
        {
          "output_type": "execute_result",
          "data": {
            "text/plain": [
              "{'Computer vision',\n",
              " 'Học Máy',\n",
              " 'Học sâu',\n",
              " 'NNLT Python',\n",
              " 'Natural Language Processing',\n",
              " 'Recommender Systems',\n",
              " 'Thể dục',\n",
              " 'Tiếng Anh chuyên ngành',\n",
              " 'Tối ưu hóa',\n",
              " 'Đại số tuyến tính'}"
            ]
          },
          "metadata": {},
          "execution_count": 4
        }
      ]
    },
    {
      "cell_type": "code",
      "source": [
        "A & B"
      ],
      "metadata": {
        "colab": {
          "base_uri": "https://localhost:8080/"
        },
        "id": "uu_kyWhTzW6v",
        "outputId": "36beb267-8037-4269-a31c-ef5a748a9c1c"
      },
      "execution_count": null,
      "outputs": [
        {
          "output_type": "execute_result",
          "data": {
            "text/plain": [
              "{'NNLT Python', 'Đại số tuyến tính'}"
            ]
          },
          "metadata": {},
          "execution_count": 5
        }
      ]
    },
    {
      "cell_type": "code",
      "source": [
        "print(A-B)"
      ],
      "metadata": {
        "colab": {
          "base_uri": "https://localhost:8080/"
        },
        "id": "cWQTJEPEzYXv",
        "outputId": "92ba2e29-1990-4d70-a93b-745a5b9e1f26"
      },
      "execution_count": null,
      "outputs": [
        {
          "output_type": "stream",
          "name": "stdout",
          "text": [
            "{'Tiếng Anh chuyên ngành', 'Thể dục'}\n"
          ]
        }
      ]
    },
    {
      "cell_type": "code",
      "source": [
        "print(B-A)"
      ],
      "metadata": {
        "colab": {
          "base_uri": "https://localhost:8080/"
        },
        "id": "Uni-CP9izZ7_",
        "outputId": "2a0681d8-2ddc-4439-a9e2-d0533f84a845"
      },
      "execution_count": null,
      "outputs": [
        {
          "output_type": "stream",
          "name": "stdout",
          "text": [
            "{'Tối ưu hóa', 'Computer vision', 'Recommender Systems', 'Học sâu', 'Natural Language Processing', 'Học Máy'}\n"
          ]
        }
      ]
    },
    {
      "cell_type": "code",
      "source": [
        "x=[1,1,1,2,2,3,3,3,4,5,6,7]"
      ],
      "metadata": {
        "id": "4MjdWSu6zbOP"
      },
      "execution_count": null,
      "outputs": []
    },
    {
      "cell_type": "code",
      "source": [
        "print(x)"
      ],
      "metadata": {
        "colab": {
          "base_uri": "https://localhost:8080/"
        },
        "id": "WKv2Q_gZzcfP",
        "outputId": "ed299591-a1ec-4ec9-93d8-4018ee6adb79"
      },
      "execution_count": null,
      "outputs": [
        {
          "output_type": "stream",
          "name": "stdout",
          "text": [
            "[1, 1, 1, 2, 2, 3, 3, 3, 4, 5, 6, 7]\n"
          ]
        }
      ]
    },
    {
      "cell_type": "code",
      "source": [
        "t=set(x)\n",
        "print(t)"
      ],
      "metadata": {
        "id": "vHMrelM8zdkf",
        "outputId": "9a1da033-27e0-44d9-b8d3-446697a4b58a",
        "colab": {
          "base_uri": "https://localhost:8080/"
        }
      },
      "execution_count": null,
      "outputs": [
        {
          "output_type": "stream",
          "name": "stdout",
          "text": [
            "{1, 2, 3, 4, 5, 6, 7}\n"
          ]
        }
      ]
    }
  ]
}