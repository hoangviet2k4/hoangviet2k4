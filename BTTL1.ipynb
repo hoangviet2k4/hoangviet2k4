{
  "nbformat": 4,
  "nbformat_minor": 0,
  "metadata": {
    "colab": {
      "provenance": [],
      "collapsed_sections": [],
      "authorship_tag": "ABX9TyOg+VJIUjOr4Kwb/uM5Edsb",
      "include_colab_link": true
    },
    "kernelspec": {
      "name": "python3",
      "display_name": "Python 3"
    },
    "language_info": {
      "name": "python"
    }
  },
  "cells": [
    {
      "cell_type": "markdown",
      "metadata": {
        "id": "view-in-github",
        "colab_type": "text"
      },
      "source": [
        "<a href=\"https://colab.research.google.com/github/hoangviet2k4/hoangviet2k4/blob/bai-tap-python/BTTL1.ipynb\" target=\"_parent\"><img src=\"https://colab.research.google.com/assets/colab-badge.svg\" alt=\"Open In Colab\"/></a>"
      ]
    },
    {
      "cell_type": "code",
      "source": [
        "x=[]\n",
        "list1 = [18]\n",
        "list2 = ['Huế']\n",
        "x= list1 + list2\n",
        "y = [12,45,-1,-0.56,'abc']\n",
        "x= list1 + list2 + y\n",
        "print (x)"
      ],
      "metadata": {
        "colab": {
          "base_uri": "https://localhost:8080/"
        },
        "id": "TZFS14ZMjEoP",
        "outputId": "bdc14950-b2a0-48ab-ae5c-5bdafac1b4c1"
      },
      "execution_count": null,
      "outputs": [
        {
          "output_type": "stream",
          "name": "stdout",
          "text": [
            "[18, 'Huế', 12, 45, -1, -0.56, 'abc']\n"
          ]
        }
      ]
    },
    {
      "cell_type": "code",
      "source": [
        "x[:]"
      ],
      "metadata": {
        "colab": {
          "base_uri": "https://localhost:8080/"
        },
        "id": "JtJAPSS2kVCC",
        "outputId": "fe4c3644-84d2-40f2-838f-92921950bcba"
      },
      "execution_count": null,
      "outputs": [
        {
          "output_type": "execute_result",
          "data": {
            "text/plain": [
              "[18, 'Huế', 12, 45, -1, -0.56, 'abc']"
            ]
          },
          "metadata": {},
          "execution_count": 22
        }
      ]
    },
    {
      "cell_type": "code",
      "source": [
        "x[:5]\n"
      ],
      "metadata": {
        "colab": {
          "base_uri": "https://localhost:8080/"
        },
        "id": "iZd0BOb3kmkx",
        "outputId": "776819e3-0186-4b8d-b4d3-452a7f534b8d"
      },
      "execution_count": null,
      "outputs": [
        {
          "output_type": "execute_result",
          "data": {
            "text/plain": [
              "[18, 'Huế', 12, 45, -1]"
            ]
          },
          "metadata": {},
          "execution_count": 23
        }
      ]
    },
    {
      "cell_type": "code",
      "source": [
        "x[3:]"
      ],
      "metadata": {
        "id": "3I1s7oZmpb0R",
        "colab": {
          "base_uri": "https://localhost:8080/"
        },
        "outputId": "fb2d1132-6195-4d4d-e8a4-5507f9e2bee8"
      },
      "execution_count": null,
      "outputs": [
        {
          "output_type": "execute_result",
          "data": {
            "text/plain": [
              "[45, -1, -0.56, 'abc']"
            ]
          },
          "metadata": {},
          "execution_count": 24
        }
      ]
    }
  ]
}